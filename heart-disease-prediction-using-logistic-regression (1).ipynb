{
 "cells": [
  {
   "cell_type": "code",
   "execution_count": 1,
   "id": "f0049f94",
   "metadata": {
    "_cell_guid": "b1076dfc-b9ad-4769-8c92-a6c4dae69d19",
    "_uuid": "8f2839f25d086af736a60e9eeb907d3b93b6e0e5",
    "execution": {
     "iopub.execute_input": "2023-11-26T05:36:21.084924Z",
     "iopub.status.busy": "2023-11-26T05:36:21.084441Z",
     "iopub.status.idle": "2023-11-26T05:36:21.577530Z",
     "shell.execute_reply": "2023-11-26T05:36:21.576064Z"
    },
    "papermill": {
     "duration": 0.510431,
     "end_time": "2023-11-26T05:36:21.580338",
     "exception": false,
     "start_time": "2023-11-26T05:36:21.069907",
     "status": "completed"
    },
    "tags": []
   },
   "outputs": [
    {
     "name": "stdout",
     "output_type": "stream",
     "text": [
      "/kaggle/input/heart-disease-prediction/Heart_Disease_Prediction.csv\n"
     ]
    }
   ],
   "source": [
    "# This Python 3 environment comes with many helpful analytics libraries installed\n",
    "# It is defined by the kaggle/python Docker image: https://github.com/kaggle/docker-python\n",
    "# For example, here's several helpful packages to load\n",
    "\n",
    "import numpy as np # linear algebra\n",
    "import pandas as pd # data processing, CSV file I/O (e.g. pd.read_csv)\n",
    "\n",
    "# Input data files are available in the read-only \"../input/\" directory\n",
    "# For example, running this (by clicking run or pressing Shift+Enter) will list all files under the input directory\n",
    "\n",
    "import os\n",
    "for dirname, _, filenames in os.walk('/kaggle/input'):\n",
    "    for filename in filenames:\n",
    "        print(os.path.join(dirname, filename))\n",
    "\n",
    "# You can write up to 20GB to the current directory (/kaggle/working/) that gets preserved as output when you create a version using \"Save & Run All\" \n",
    "# You can also write temporary files to /kaggle/temp/, but they won't be saved outside of the current session"
   ]
  },
  {
   "cell_type": "code",
   "execution_count": 2,
   "id": "4ec01a20",
   "metadata": {
    "execution": {
     "iopub.execute_input": "2023-11-26T05:36:21.605548Z",
     "iopub.status.busy": "2023-11-26T05:36:21.604858Z",
     "iopub.status.idle": "2023-11-26T05:36:22.934003Z",
     "shell.execute_reply": "2023-11-26T05:36:22.932775Z"
    },
    "papermill": {
     "duration": 1.345088,
     "end_time": "2023-11-26T05:36:22.937076",
     "exception": false,
     "start_time": "2023-11-26T05:36:21.591988",
     "status": "completed"
    },
    "tags": []
   },
   "outputs": [],
   "source": [
    "# importing libraries\n",
    "import pandas as pd # for data proccessing\n",
    "import numpy as np # for linear algebra\n",
    "import matplotlib.pyplot as plt # visualization\n",
    "import seaborn as sns"
   ]
  },
  {
   "cell_type": "markdown",
   "id": "62eae257",
   "metadata": {
    "papermill": {
     "duration": 0.010767,
     "end_time": "2023-11-26T05:36:22.959214",
     "exception": false,
     "start_time": "2023-11-26T05:36:22.948447",
     "status": "completed"
    },
    "tags": []
   },
   "source": [
    "## Read the Dataset"
   ]
  },
  {
   "cell_type": "code",
   "execution_count": 3,
   "id": "8b16b2d3",
   "metadata": {
    "execution": {
     "iopub.execute_input": "2023-11-26T05:36:22.984472Z",
     "iopub.status.busy": "2023-11-26T05:36:22.983389Z",
     "iopub.status.idle": "2023-11-26T05:36:23.032774Z",
     "shell.execute_reply": "2023-11-26T05:36:23.031618Z"
    },
    "papermill": {
     "duration": 0.065753,
     "end_time": "2023-11-26T05:36:23.036117",
     "exception": false,
     "start_time": "2023-11-26T05:36:22.970364",
     "status": "completed"
    },
    "tags": []
   },
   "outputs": [
    {
     "data": {
      "text/html": [
       "<div>\n",
       "<style scoped>\n",
       "    .dataframe tbody tr th:only-of-type {\n",
       "        vertical-align: middle;\n",
       "    }\n",
       "\n",
       "    .dataframe tbody tr th {\n",
       "        vertical-align: top;\n",
       "    }\n",
       "\n",
       "    .dataframe thead th {\n",
       "        text-align: right;\n",
       "    }\n",
       "</style>\n",
       "<table border=\"1\" class=\"dataframe\">\n",
       "  <thead>\n",
       "    <tr style=\"text-align: right;\">\n",
       "      <th></th>\n",
       "      <th>Age</th>\n",
       "      <th>Sex</th>\n",
       "      <th>Chest pain type</th>\n",
       "      <th>BP</th>\n",
       "      <th>Cholesterol</th>\n",
       "      <th>FBS over 120</th>\n",
       "      <th>EKG results</th>\n",
       "      <th>Max HR</th>\n",
       "      <th>Exercise angina</th>\n",
       "      <th>ST depression</th>\n",
       "      <th>Slope of ST</th>\n",
       "      <th>Number of vessels fluro</th>\n",
       "      <th>Thallium</th>\n",
       "      <th>Heart Disease</th>\n",
       "    </tr>\n",
       "  </thead>\n",
       "  <tbody>\n",
       "    <tr>\n",
       "      <th>0</th>\n",
       "      <td>70</td>\n",
       "      <td>1</td>\n",
       "      <td>4</td>\n",
       "      <td>130</td>\n",
       "      <td>322</td>\n",
       "      <td>0</td>\n",
       "      <td>2</td>\n",
       "      <td>109</td>\n",
       "      <td>0</td>\n",
       "      <td>2.4</td>\n",
       "      <td>2</td>\n",
       "      <td>3</td>\n",
       "      <td>3</td>\n",
       "      <td>Presence</td>\n",
       "    </tr>\n",
       "    <tr>\n",
       "      <th>1</th>\n",
       "      <td>67</td>\n",
       "      <td>0</td>\n",
       "      <td>3</td>\n",
       "      <td>115</td>\n",
       "      <td>564</td>\n",
       "      <td>0</td>\n",
       "      <td>2</td>\n",
       "      <td>160</td>\n",
       "      <td>0</td>\n",
       "      <td>1.6</td>\n",
       "      <td>2</td>\n",
       "      <td>0</td>\n",
       "      <td>7</td>\n",
       "      <td>Absence</td>\n",
       "    </tr>\n",
       "    <tr>\n",
       "      <th>2</th>\n",
       "      <td>57</td>\n",
       "      <td>1</td>\n",
       "      <td>2</td>\n",
       "      <td>124</td>\n",
       "      <td>261</td>\n",
       "      <td>0</td>\n",
       "      <td>0</td>\n",
       "      <td>141</td>\n",
       "      <td>0</td>\n",
       "      <td>0.3</td>\n",
       "      <td>1</td>\n",
       "      <td>0</td>\n",
       "      <td>7</td>\n",
       "      <td>Presence</td>\n",
       "    </tr>\n",
       "    <tr>\n",
       "      <th>3</th>\n",
       "      <td>64</td>\n",
       "      <td>1</td>\n",
       "      <td>4</td>\n",
       "      <td>128</td>\n",
       "      <td>263</td>\n",
       "      <td>0</td>\n",
       "      <td>0</td>\n",
       "      <td>105</td>\n",
       "      <td>1</td>\n",
       "      <td>0.2</td>\n",
       "      <td>2</td>\n",
       "      <td>1</td>\n",
       "      <td>7</td>\n",
       "      <td>Absence</td>\n",
       "    </tr>\n",
       "    <tr>\n",
       "      <th>4</th>\n",
       "      <td>74</td>\n",
       "      <td>0</td>\n",
       "      <td>2</td>\n",
       "      <td>120</td>\n",
       "      <td>269</td>\n",
       "      <td>0</td>\n",
       "      <td>2</td>\n",
       "      <td>121</td>\n",
       "      <td>1</td>\n",
       "      <td>0.2</td>\n",
       "      <td>1</td>\n",
       "      <td>1</td>\n",
       "      <td>3</td>\n",
       "      <td>Absence</td>\n",
       "    </tr>\n",
       "  </tbody>\n",
       "</table>\n",
       "</div>"
      ],
      "text/plain": [
       "   Age  Sex  Chest pain type   BP  Cholesterol  FBS over 120  EKG results  \\\n",
       "0   70    1                4  130          322             0            2   \n",
       "1   67    0                3  115          564             0            2   \n",
       "2   57    1                2  124          261             0            0   \n",
       "3   64    1                4  128          263             0            0   \n",
       "4   74    0                2  120          269             0            2   \n",
       "\n",
       "   Max HR  Exercise angina  ST depression  Slope of ST  \\\n",
       "0     109                0            2.4            2   \n",
       "1     160                0            1.6            2   \n",
       "2     141                0            0.3            1   \n",
       "3     105                1            0.2            2   \n",
       "4     121                1            0.2            1   \n",
       "\n",
       "   Number of vessels fluro  Thallium Heart Disease  \n",
       "0                        3         3      Presence  \n",
       "1                        0         7       Absence  \n",
       "2                        0         7      Presence  \n",
       "3                        1         7       Absence  \n",
       "4                        1         3       Absence  "
      ]
     },
     "execution_count": 3,
     "metadata": {},
     "output_type": "execute_result"
    }
   ],
   "source": [
    "# read the dataset\n",
    "df = pd.read_csv('/kaggle/input/heart-disease-prediction/Heart_Disease_Prediction.csv')\n",
    "# the first five rows of the dataset\n",
    "df.head()"
   ]
  },
  {
   "cell_type": "markdown",
   "id": "d1955446",
   "metadata": {
    "papermill": {
     "duration": 0.011698,
     "end_time": "2023-11-26T05:36:23.061010",
     "exception": false,
     "start_time": "2023-11-26T05:36:23.049312",
     "status": "completed"
    },
    "tags": []
   },
   "source": [
    "## Dataset Information\n"
   ]
  },
  {
   "cell_type": "code",
   "execution_count": 4,
   "id": "6bb6b5bd",
   "metadata": {
    "execution": {
     "iopub.execute_input": "2023-11-26T05:36:23.087279Z",
     "iopub.status.busy": "2023-11-26T05:36:23.086056Z",
     "iopub.status.idle": "2023-11-26T05:36:23.094291Z",
     "shell.execute_reply": "2023-11-26T05:36:23.093022Z"
    },
    "papermill": {
     "duration": 0.024149,
     "end_time": "2023-11-26T05:36:23.096996",
     "exception": false,
     "start_time": "2023-11-26T05:36:23.072847",
     "status": "completed"
    },
    "tags": []
   },
   "outputs": [
    {
     "name": "stdout",
     "output_type": "stream",
     "text": [
      " shape : (270, 14)\n",
      " size  : 3780\n"
     ]
    }
   ],
   "source": [
    "# dataset shape & size\n",
    "print(f\" shape : {df.shape}\")\n",
    "print(f\" size  : {df.size}\")"
   ]
  },
  {
   "cell_type": "code",
   "execution_count": 5,
   "id": "cb26145c",
   "metadata": {
    "execution": {
     "iopub.execute_input": "2023-11-26T05:36:23.125786Z",
     "iopub.status.busy": "2023-11-26T05:36:23.125025Z",
     "iopub.status.idle": "2023-11-26T05:36:23.133516Z",
     "shell.execute_reply": "2023-11-26T05:36:23.132361Z"
    },
    "papermill": {
     "duration": 0.02668,
     "end_time": "2023-11-26T05:36:23.135883",
     "exception": false,
     "start_time": "2023-11-26T05:36:23.109203",
     "status": "completed"
    },
    "tags": []
   },
   "outputs": [
    {
     "data": {
      "text/plain": [
       "Age                        0\n",
       "Sex                        0\n",
       "Chest pain type            0\n",
       "BP                         0\n",
       "Cholesterol                0\n",
       "FBS over 120               0\n",
       "EKG results                0\n",
       "Max HR                     0\n",
       "Exercise angina            0\n",
       "ST depression              0\n",
       "Slope of ST                0\n",
       "Number of vessels fluro    0\n",
       "Thallium                   0\n",
       "Heart Disease              0\n",
       "dtype: int64"
      ]
     },
     "execution_count": 5,
     "metadata": {},
     "output_type": "execute_result"
    }
   ],
   "source": [
    "#checking if there is missing points\n",
    "df.isnull().sum()"
   ]
  },
  {
   "cell_type": "code",
   "execution_count": 6,
   "id": "a1866424",
   "metadata": {
    "execution": {
     "iopub.execute_input": "2023-11-26T05:36:23.162531Z",
     "iopub.status.busy": "2023-11-26T05:36:23.161817Z",
     "iopub.status.idle": "2023-11-26T05:36:23.189968Z",
     "shell.execute_reply": "2023-11-26T05:36:23.188188Z"
    },
    "papermill": {
     "duration": 0.044498,
     "end_time": "2023-11-26T05:36:23.192610",
     "exception": false,
     "start_time": "2023-11-26T05:36:23.148112",
     "status": "completed"
    },
    "tags": []
   },
   "outputs": [
    {
     "name": "stdout",
     "output_type": "stream",
     "text": [
      "<class 'pandas.core.frame.DataFrame'>\n",
      "RangeIndex: 270 entries, 0 to 269\n",
      "Data columns (total 14 columns):\n",
      " #   Column                   Non-Null Count  Dtype  \n",
      "---  ------                   --------------  -----  \n",
      " 0   Age                      270 non-null    int64  \n",
      " 1   Sex                      270 non-null    int64  \n",
      " 2   Chest pain type          270 non-null    int64  \n",
      " 3   BP                       270 non-null    int64  \n",
      " 4   Cholesterol              270 non-null    int64  \n",
      " 5   FBS over 120             270 non-null    int64  \n",
      " 6   EKG results              270 non-null    int64  \n",
      " 7   Max HR                   270 non-null    int64  \n",
      " 8   Exercise angina          270 non-null    int64  \n",
      " 9   ST depression            270 non-null    float64\n",
      " 10  Slope of ST              270 non-null    int64  \n",
      " 11  Number of vessels fluro  270 non-null    int64  \n",
      " 12  Thallium                 270 non-null    int64  \n",
      " 13  Heart Disease            270 non-null    object \n",
      "dtypes: float64(1), int64(12), object(1)\n",
      "memory usage: 29.7+ KB\n"
     ]
    }
   ],
   "source": [
    "# basic summary\n",
    "df.info()"
   ]
  },
  {
   "cell_type": "code",
   "execution_count": 7,
   "id": "3cc858e4",
   "metadata": {
    "execution": {
     "iopub.execute_input": "2023-11-26T05:36:23.219444Z",
     "iopub.status.busy": "2023-11-26T05:36:23.218932Z",
     "iopub.status.idle": "2023-11-26T05:36:23.273062Z",
     "shell.execute_reply": "2023-11-26T05:36:23.271795Z"
    },
    "papermill": {
     "duration": 0.071137,
     "end_time": "2023-11-26T05:36:23.276051",
     "exception": false,
     "start_time": "2023-11-26T05:36:23.204914",
     "status": "completed"
    },
    "tags": []
   },
   "outputs": [
    {
     "data": {
      "text/html": [
       "<div>\n",
       "<style scoped>\n",
       "    .dataframe tbody tr th:only-of-type {\n",
       "        vertical-align: middle;\n",
       "    }\n",
       "\n",
       "    .dataframe tbody tr th {\n",
       "        vertical-align: top;\n",
       "    }\n",
       "\n",
       "    .dataframe thead th {\n",
       "        text-align: right;\n",
       "    }\n",
       "</style>\n",
       "<table border=\"1\" class=\"dataframe\">\n",
       "  <thead>\n",
       "    <tr style=\"text-align: right;\">\n",
       "      <th></th>\n",
       "      <th>Age</th>\n",
       "      <th>Sex</th>\n",
       "      <th>Chest pain type</th>\n",
       "      <th>BP</th>\n",
       "      <th>Cholesterol</th>\n",
       "      <th>FBS over 120</th>\n",
       "      <th>EKG results</th>\n",
       "      <th>Max HR</th>\n",
       "      <th>Exercise angina</th>\n",
       "      <th>ST depression</th>\n",
       "      <th>Slope of ST</th>\n",
       "      <th>Number of vessels fluro</th>\n",
       "      <th>Thallium</th>\n",
       "    </tr>\n",
       "  </thead>\n",
       "  <tbody>\n",
       "    <tr>\n",
       "      <th>count</th>\n",
       "      <td>270.000000</td>\n",
       "      <td>270.000000</td>\n",
       "      <td>270.000000</td>\n",
       "      <td>270.000000</td>\n",
       "      <td>270.000000</td>\n",
       "      <td>270.000000</td>\n",
       "      <td>270.000000</td>\n",
       "      <td>270.000000</td>\n",
       "      <td>270.000000</td>\n",
       "      <td>270.00000</td>\n",
       "      <td>270.000000</td>\n",
       "      <td>270.000000</td>\n",
       "      <td>270.000000</td>\n",
       "    </tr>\n",
       "    <tr>\n",
       "      <th>mean</th>\n",
       "      <td>54.433333</td>\n",
       "      <td>0.677778</td>\n",
       "      <td>3.174074</td>\n",
       "      <td>131.344444</td>\n",
       "      <td>249.659259</td>\n",
       "      <td>0.148148</td>\n",
       "      <td>1.022222</td>\n",
       "      <td>149.677778</td>\n",
       "      <td>0.329630</td>\n",
       "      <td>1.05000</td>\n",
       "      <td>1.585185</td>\n",
       "      <td>0.670370</td>\n",
       "      <td>4.696296</td>\n",
       "    </tr>\n",
       "    <tr>\n",
       "      <th>std</th>\n",
       "      <td>9.109067</td>\n",
       "      <td>0.468195</td>\n",
       "      <td>0.950090</td>\n",
       "      <td>17.861608</td>\n",
       "      <td>51.686237</td>\n",
       "      <td>0.355906</td>\n",
       "      <td>0.997891</td>\n",
       "      <td>23.165717</td>\n",
       "      <td>0.470952</td>\n",
       "      <td>1.14521</td>\n",
       "      <td>0.614390</td>\n",
       "      <td>0.943896</td>\n",
       "      <td>1.940659</td>\n",
       "    </tr>\n",
       "    <tr>\n",
       "      <th>min</th>\n",
       "      <td>29.000000</td>\n",
       "      <td>0.000000</td>\n",
       "      <td>1.000000</td>\n",
       "      <td>94.000000</td>\n",
       "      <td>126.000000</td>\n",
       "      <td>0.000000</td>\n",
       "      <td>0.000000</td>\n",
       "      <td>71.000000</td>\n",
       "      <td>0.000000</td>\n",
       "      <td>0.00000</td>\n",
       "      <td>1.000000</td>\n",
       "      <td>0.000000</td>\n",
       "      <td>3.000000</td>\n",
       "    </tr>\n",
       "    <tr>\n",
       "      <th>25%</th>\n",
       "      <td>48.000000</td>\n",
       "      <td>0.000000</td>\n",
       "      <td>3.000000</td>\n",
       "      <td>120.000000</td>\n",
       "      <td>213.000000</td>\n",
       "      <td>0.000000</td>\n",
       "      <td>0.000000</td>\n",
       "      <td>133.000000</td>\n",
       "      <td>0.000000</td>\n",
       "      <td>0.00000</td>\n",
       "      <td>1.000000</td>\n",
       "      <td>0.000000</td>\n",
       "      <td>3.000000</td>\n",
       "    </tr>\n",
       "    <tr>\n",
       "      <th>50%</th>\n",
       "      <td>55.000000</td>\n",
       "      <td>1.000000</td>\n",
       "      <td>3.000000</td>\n",
       "      <td>130.000000</td>\n",
       "      <td>245.000000</td>\n",
       "      <td>0.000000</td>\n",
       "      <td>2.000000</td>\n",
       "      <td>153.500000</td>\n",
       "      <td>0.000000</td>\n",
       "      <td>0.80000</td>\n",
       "      <td>2.000000</td>\n",
       "      <td>0.000000</td>\n",
       "      <td>3.000000</td>\n",
       "    </tr>\n",
       "    <tr>\n",
       "      <th>75%</th>\n",
       "      <td>61.000000</td>\n",
       "      <td>1.000000</td>\n",
       "      <td>4.000000</td>\n",
       "      <td>140.000000</td>\n",
       "      <td>280.000000</td>\n",
       "      <td>0.000000</td>\n",
       "      <td>2.000000</td>\n",
       "      <td>166.000000</td>\n",
       "      <td>1.000000</td>\n",
       "      <td>1.60000</td>\n",
       "      <td>2.000000</td>\n",
       "      <td>1.000000</td>\n",
       "      <td>7.000000</td>\n",
       "    </tr>\n",
       "    <tr>\n",
       "      <th>max</th>\n",
       "      <td>77.000000</td>\n",
       "      <td>1.000000</td>\n",
       "      <td>4.000000</td>\n",
       "      <td>200.000000</td>\n",
       "      <td>564.000000</td>\n",
       "      <td>1.000000</td>\n",
       "      <td>2.000000</td>\n",
       "      <td>202.000000</td>\n",
       "      <td>1.000000</td>\n",
       "      <td>6.20000</td>\n",
       "      <td>3.000000</td>\n",
       "      <td>3.000000</td>\n",
       "      <td>7.000000</td>\n",
       "    </tr>\n",
       "  </tbody>\n",
       "</table>\n",
       "</div>"
      ],
      "text/plain": [
       "              Age         Sex  Chest pain type          BP  Cholesterol  \\\n",
       "count  270.000000  270.000000       270.000000  270.000000   270.000000   \n",
       "mean    54.433333    0.677778         3.174074  131.344444   249.659259   \n",
       "std      9.109067    0.468195         0.950090   17.861608    51.686237   \n",
       "min     29.000000    0.000000         1.000000   94.000000   126.000000   \n",
       "25%     48.000000    0.000000         3.000000  120.000000   213.000000   \n",
       "50%     55.000000    1.000000         3.000000  130.000000   245.000000   \n",
       "75%     61.000000    1.000000         4.000000  140.000000   280.000000   \n",
       "max     77.000000    1.000000         4.000000  200.000000   564.000000   \n",
       "\n",
       "       FBS over 120  EKG results      Max HR  Exercise angina  ST depression  \\\n",
       "count    270.000000   270.000000  270.000000       270.000000      270.00000   \n",
       "mean       0.148148     1.022222  149.677778         0.329630        1.05000   \n",
       "std        0.355906     0.997891   23.165717         0.470952        1.14521   \n",
       "min        0.000000     0.000000   71.000000         0.000000        0.00000   \n",
       "25%        0.000000     0.000000  133.000000         0.000000        0.00000   \n",
       "50%        0.000000     2.000000  153.500000         0.000000        0.80000   \n",
       "75%        0.000000     2.000000  166.000000         1.000000        1.60000   \n",
       "max        1.000000     2.000000  202.000000         1.000000        6.20000   \n",
       "\n",
       "       Slope of ST  Number of vessels fluro    Thallium  \n",
       "count   270.000000               270.000000  270.000000  \n",
       "mean      1.585185                 0.670370    4.696296  \n",
       "std       0.614390                 0.943896    1.940659  \n",
       "min       1.000000                 0.000000    3.000000  \n",
       "25%       1.000000                 0.000000    3.000000  \n",
       "50%       2.000000                 0.000000    3.000000  \n",
       "75%       2.000000                 1.000000    7.000000  \n",
       "max       3.000000                 3.000000    7.000000  "
      ]
     },
     "execution_count": 7,
     "metadata": {},
     "output_type": "execute_result"
    }
   ],
   "source": [
    "# basic stats\n",
    "df.describe()"
   ]
  },
  {
   "cell_type": "markdown",
   "id": "70fd7bca",
   "metadata": {
    "papermill": {
     "duration": 0.01264,
     "end_time": "2023-11-26T05:36:23.301196",
     "exception": false,
     "start_time": "2023-11-26T05:36:23.288556",
     "status": "completed"
    },
    "tags": []
   },
   "source": [
    "## Data Preprocessing\n"
   ]
  },
  {
   "cell_type": "code",
   "execution_count": 8,
   "id": "17f5e54a",
   "metadata": {
    "execution": {
     "iopub.execute_input": "2023-11-26T05:36:23.328249Z",
     "iopub.status.busy": "2023-11-26T05:36:23.327813Z",
     "iopub.status.idle": "2023-11-26T05:36:23.570450Z",
     "shell.execute_reply": "2023-11-26T05:36:23.569319Z"
    },
    "papermill": {
     "duration": 0.25946,
     "end_time": "2023-11-26T05:36:23.573211",
     "exception": false,
     "start_time": "2023-11-26T05:36:23.313751",
     "status": "completed"
    },
    "tags": []
   },
   "outputs": [],
   "source": [
    "from sklearn.preprocessing import LabelEncoder "
   ]
  },
  {
   "cell_type": "code",
   "execution_count": 9,
   "id": "0251d138",
   "metadata": {
    "execution": {
     "iopub.execute_input": "2023-11-26T05:36:23.600957Z",
     "iopub.status.busy": "2023-11-26T05:36:23.599625Z",
     "iopub.status.idle": "2023-11-26T05:36:23.606828Z",
     "shell.execute_reply": "2023-11-26T05:36:23.605965Z"
    },
    "papermill": {
     "duration": 0.023183,
     "end_time": "2023-11-26T05:36:23.609172",
     "exception": false,
     "start_time": "2023-11-26T05:36:23.585989",
     "status": "completed"
    },
    "tags": []
   },
   "outputs": [],
   "source": [
    "encoder = LabelEncoder()\n",
    "encoder.fit(df['Heart Disease'])\n",
    "df['Heart Disease']=encoder.transform(df['Heart Disease'])"
   ]
  },
  {
   "cell_type": "code",
   "execution_count": 10,
   "id": "9e015291",
   "metadata": {
    "execution": {
     "iopub.execute_input": "2023-11-26T05:36:23.637806Z",
     "iopub.status.busy": "2023-11-26T05:36:23.636365Z",
     "iopub.status.idle": "2023-11-26T05:36:23.653597Z",
     "shell.execute_reply": "2023-11-26T05:36:23.652513Z"
    },
    "papermill": {
     "duration": 0.034076,
     "end_time": "2023-11-26T05:36:23.656204",
     "exception": false,
     "start_time": "2023-11-26T05:36:23.622128",
     "status": "completed"
    },
    "tags": []
   },
   "outputs": [
    {
     "data": {
      "text/html": [
       "<div>\n",
       "<style scoped>\n",
       "    .dataframe tbody tr th:only-of-type {\n",
       "        vertical-align: middle;\n",
       "    }\n",
       "\n",
       "    .dataframe tbody tr th {\n",
       "        vertical-align: top;\n",
       "    }\n",
       "\n",
       "    .dataframe thead th {\n",
       "        text-align: right;\n",
       "    }\n",
       "</style>\n",
       "<table border=\"1\" class=\"dataframe\">\n",
       "  <thead>\n",
       "    <tr style=\"text-align: right;\">\n",
       "      <th></th>\n",
       "      <th>Age</th>\n",
       "      <th>Sex</th>\n",
       "      <th>Chest pain type</th>\n",
       "      <th>BP</th>\n",
       "      <th>Cholesterol</th>\n",
       "      <th>FBS over 120</th>\n",
       "      <th>EKG results</th>\n",
       "      <th>Max HR</th>\n",
       "      <th>Exercise angina</th>\n",
       "      <th>ST depression</th>\n",
       "      <th>Slope of ST</th>\n",
       "      <th>Number of vessels fluro</th>\n",
       "      <th>Thallium</th>\n",
       "      <th>Heart Disease</th>\n",
       "    </tr>\n",
       "  </thead>\n",
       "  <tbody>\n",
       "    <tr>\n",
       "      <th>0</th>\n",
       "      <td>70</td>\n",
       "      <td>1</td>\n",
       "      <td>4</td>\n",
       "      <td>130</td>\n",
       "      <td>322</td>\n",
       "      <td>0</td>\n",
       "      <td>2</td>\n",
       "      <td>109</td>\n",
       "      <td>0</td>\n",
       "      <td>2.4</td>\n",
       "      <td>2</td>\n",
       "      <td>3</td>\n",
       "      <td>3</td>\n",
       "      <td>1</td>\n",
       "    </tr>\n",
       "    <tr>\n",
       "      <th>1</th>\n",
       "      <td>67</td>\n",
       "      <td>0</td>\n",
       "      <td>3</td>\n",
       "      <td>115</td>\n",
       "      <td>564</td>\n",
       "      <td>0</td>\n",
       "      <td>2</td>\n",
       "      <td>160</td>\n",
       "      <td>0</td>\n",
       "      <td>1.6</td>\n",
       "      <td>2</td>\n",
       "      <td>0</td>\n",
       "      <td>7</td>\n",
       "      <td>0</td>\n",
       "    </tr>\n",
       "    <tr>\n",
       "      <th>2</th>\n",
       "      <td>57</td>\n",
       "      <td>1</td>\n",
       "      <td>2</td>\n",
       "      <td>124</td>\n",
       "      <td>261</td>\n",
       "      <td>0</td>\n",
       "      <td>0</td>\n",
       "      <td>141</td>\n",
       "      <td>0</td>\n",
       "      <td>0.3</td>\n",
       "      <td>1</td>\n",
       "      <td>0</td>\n",
       "      <td>7</td>\n",
       "      <td>1</td>\n",
       "    </tr>\n",
       "    <tr>\n",
       "      <th>3</th>\n",
       "      <td>64</td>\n",
       "      <td>1</td>\n",
       "      <td>4</td>\n",
       "      <td>128</td>\n",
       "      <td>263</td>\n",
       "      <td>0</td>\n",
       "      <td>0</td>\n",
       "      <td>105</td>\n",
       "      <td>1</td>\n",
       "      <td>0.2</td>\n",
       "      <td>2</td>\n",
       "      <td>1</td>\n",
       "      <td>7</td>\n",
       "      <td>0</td>\n",
       "    </tr>\n",
       "    <tr>\n",
       "      <th>4</th>\n",
       "      <td>74</td>\n",
       "      <td>0</td>\n",
       "      <td>2</td>\n",
       "      <td>120</td>\n",
       "      <td>269</td>\n",
       "      <td>0</td>\n",
       "      <td>2</td>\n",
       "      <td>121</td>\n",
       "      <td>1</td>\n",
       "      <td>0.2</td>\n",
       "      <td>1</td>\n",
       "      <td>1</td>\n",
       "      <td>3</td>\n",
       "      <td>0</td>\n",
       "    </tr>\n",
       "  </tbody>\n",
       "</table>\n",
       "</div>"
      ],
      "text/plain": [
       "   Age  Sex  Chest pain type   BP  Cholesterol  FBS over 120  EKG results  \\\n",
       "0   70    1                4  130          322             0            2   \n",
       "1   67    0                3  115          564             0            2   \n",
       "2   57    1                2  124          261             0            0   \n",
       "3   64    1                4  128          263             0            0   \n",
       "4   74    0                2  120          269             0            2   \n",
       "\n",
       "   Max HR  Exercise angina  ST depression  Slope of ST  \\\n",
       "0     109                0            2.4            2   \n",
       "1     160                0            1.6            2   \n",
       "2     141                0            0.3            1   \n",
       "3     105                1            0.2            2   \n",
       "4     121                1            0.2            1   \n",
       "\n",
       "   Number of vessels fluro  Thallium  Heart Disease  \n",
       "0                        3         3              1  \n",
       "1                        0         7              0  \n",
       "2                        0         7              1  \n",
       "3                        1         7              0  \n",
       "4                        1         3              0  "
      ]
     },
     "execution_count": 10,
     "metadata": {},
     "output_type": "execute_result"
    }
   ],
   "source": [
    "df.head()"
   ]
  },
  {
   "cell_type": "markdown",
   "id": "a64f0da7",
   "metadata": {
    "papermill": {
     "duration": 0.012632,
     "end_time": "2023-11-26T05:36:23.682023",
     "exception": false,
     "start_time": "2023-11-26T05:36:23.669391",
     "status": "completed"
    },
    "tags": []
   },
   "source": [
    "## Exploratory Data Analysis (EDA) and Visualization\n"
   ]
  },
  {
   "cell_type": "code",
   "execution_count": 11,
   "id": "7fae6136",
   "metadata": {
    "execution": {
     "iopub.execute_input": "2023-11-26T05:36:23.709612Z",
     "iopub.status.busy": "2023-11-26T05:36:23.709221Z",
     "iopub.status.idle": "2023-11-26T05:36:24.232347Z",
     "shell.execute_reply": "2023-11-26T05:36:24.231548Z"
    },
    "papermill": {
     "duration": 0.540623,
     "end_time": "2023-11-26T05:36:24.235605",
     "exception": false,
     "start_time": "2023-11-26T05:36:23.694982",
     "status": "completed"
    },
    "tags": []
   },
   "outputs": [
    {
     "data": {
      "text/plain": [
       "<Axes: >"
      ]
     },
     "execution_count": 11,
     "metadata": {},
     "output_type": "execute_result"
    },
    {
     "data": {
      "image/png": "[encoded data removed]",
      "text/plain": [
       "<Figure size 640x480 with 2 Axes>"
      ]
     },
     "metadata": {},
     "output_type": "display_data"
    }
   ],
   "source": [
    "sns.heatmap(df.drop(columns='Heart Disease').corr())\n"
   ]
  },
  {
   "cell_type": "code",
   "execution_count": 12,
   "id": "fd0b919b",
   "metadata": {
    "execution": {
     "iopub.execute_input": "2023-11-26T05:36:24.266585Z",
     "iopub.status.busy": "2023-11-26T05:36:24.265538Z",
     "iopub.status.idle": "2023-11-26T05:36:25.734938Z",
     "shell.execute_reply": "2023-11-26T05:36:25.733762Z"
    },
    "papermill": {
     "duration": 1.487939,
     "end_time": "2023-11-26T05:36:25.737600",
     "exception": false,
     "start_time": "2023-11-26T05:36:24.249661",
     "status": "completed"
    },
    "tags": []
   },
   "outputs": [
    {
     "data": {
      "text/plain": [
       "<Axes: xlabel='Age', ylabel='Heart Disease'>"
      ]
     },
     "execution_count": 12,
     "metadata": {},
     "output_type": "execute_result"
    },
    {
     "data": {
      "image/png": "[encoded data removed]",
      "text/plain": [
       "<Figure size 640x480 with 1 Axes>"
      ]
     },
     "metadata": {},
     "output_type": "display_data"
    }
   ],
   "source": [
    "sns.lineplot(data=df,x='Age',y='Heart Disease')\n"
   ]
  },
  {
   "cell_type": "code",
   "execution_count": 13,
   "id": "ed028607",
   "metadata": {
    "execution": {
     "iopub.execute_input": "2023-11-26T05:36:25.771250Z",
     "iopub.status.busy": "2023-11-26T05:36:25.769804Z",
     "iopub.status.idle": "2023-11-26T05:36:27.731735Z",
     "shell.execute_reply": "2023-11-26T05:36:27.730258Z"
    },
    "papermill": {
     "duration": 1.981199,
     "end_time": "2023-11-26T05:36:27.734370",
     "exception": false,
     "start_time": "2023-11-26T05:36:25.753171",
     "status": "completed"
    },
    "tags": []
   },
   "outputs": [
    {
     "data": {
      "text/plain": [
       "<Axes: xlabel='Age', ylabel='Heart Disease'>"
      ]
     },
     "execution_count": 13,
     "metadata": {},
     "output_type": "execute_result"
    },
    {
     "data": {
      "image/png": "[encoded data removed]",
      "text/plain": [
       "<Figure size 1500x1500 with 1 Axes>"
      ]
     },
     "metadata": {},
     "output_type": "display_data"
    }
   ],
   "source": [
    "plt.figure(figsize=(15,15))\n",
    "sns.barplot(data=df,y='Heart Disease',x='Age')"
   ]
  },
  {
   "cell_type": "code",
   "execution_count": 14,
   "id": "b1715f09",
   "metadata": {
    "execution": {
     "iopub.execute_input": "2023-11-26T05:36:27.767526Z",
     "iopub.status.busy": "2023-11-26T05:36:27.767039Z",
     "iopub.status.idle": "2023-11-26T05:36:28.021188Z",
     "shell.execute_reply": "2023-11-26T05:36:28.020042Z"
    },
    "papermill": {
     "duration": 0.273813,
     "end_time": "2023-11-26T05:36:28.023827",
     "exception": false,
     "start_time": "2023-11-26T05:36:27.750014",
     "status": "completed"
    },
    "tags": []
   },
   "outputs": [
    {
     "data": {
      "text/plain": [
       "<Axes: xlabel='Sex', ylabel='Heart Disease'>"
      ]
     },
     "execution_count": 14,
     "metadata": {},
     "output_type": "execute_result"
    },
    {
     "data": {
      "image/png": "[encoded data removed]",
      "text/plain": [
       "<Figure size 640x480 with 1 Axes>"
      ]
     },
     "metadata": {},
     "output_type": "display_data"
    }
   ],
   "source": [
    "sns.barplot(data=df,y='Heart Disease',x='Sex')"
   ]
  },
  {
   "cell_type": "code",
   "execution_count": 15,
   "id": "70f6c39a",
   "metadata": {
    "execution": {
     "iopub.execute_input": "2023-11-26T05:36:28.058158Z",
     "iopub.status.busy": "2023-11-26T05:36:28.057757Z",
     "iopub.status.idle": "2023-11-26T05:36:28.405880Z",
     "shell.execute_reply": "2023-11-26T05:36:28.404765Z"
    },
    "papermill": {
     "duration": 0.368449,
     "end_time": "2023-11-26T05:36:28.408338",
     "exception": false,
     "start_time": "2023-11-26T05:36:28.039889",
     "status": "completed"
    },
    "tags": []
   },
   "outputs": [
    {
     "data": {
      "text/plain": [
       "<Axes: xlabel='Chest pain type', ylabel='Heart Disease'>"
      ]
     },
     "execution_count": 15,
     "metadata": {},
     "output_type": "execute_result"
    },
    {
     "data": {
      "image/png": "[encoded data removed]",
      "text/plain": [
       "<Figure size 640x480 with 1 Axes>"
      ]
     },
     "metadata": {},
     "output_type": "display_data"
    }
   ],
   "source": [
    "sns.barplot(data=df,y='Heart Disease',x='Chest pain type')\n"
   ]
  },
  {
   "cell_type": "code",
   "execution_count": 16,
   "id": "01857dca",
   "metadata": {
    "execution": {
     "iopub.execute_input": "2023-11-26T05:36:28.443497Z",
     "iopub.status.busy": "2023-11-26T05:36:28.443093Z",
     "iopub.status.idle": "2023-11-26T05:36:28.753186Z",
     "shell.execute_reply": "2023-11-26T05:36:28.752115Z"
    },
    "papermill": {
     "duration": 0.33076,
     "end_time": "2023-11-26T05:36:28.755665",
     "exception": false,
     "start_time": "2023-11-26T05:36:28.424905",
     "status": "completed"
    },
    "tags": []
   },
   "outputs": [
    {
     "data": {
      "text/plain": [
       "<Axes: xlabel='Thallium', ylabel='Heart Disease'>"
      ]
     },
     "execution_count": 16,
     "metadata": {},
     "output_type": "execute_result"
    },
    {
     "data": {
      "image/png": "[encoded data removed]",
      "text/plain": [
       "<Figure size 640x480 with 1 Axes>"
      ]
     },
     "metadata": {},
     "output_type": "display_data"
    }
   ],
   "source": [
    "sns.barplot(data=df,y='Heart Disease',x='Thallium')\n"
   ]
  },
  {
   "cell_type": "code",
   "execution_count": 17,
   "id": "b5cf74b3",
   "metadata": {
    "execution": {
     "iopub.execute_input": "2023-11-26T05:36:28.792590Z",
     "iopub.status.busy": "2023-11-26T05:36:28.790474Z",
     "iopub.status.idle": "2023-11-26T05:36:29.072247Z",
     "shell.execute_reply": "2023-11-26T05:36:29.070814Z"
    },
    "papermill": {
     "duration": 0.302614,
     "end_time": "2023-11-26T05:36:29.075014",
     "exception": false,
     "start_time": "2023-11-26T05:36:28.772400",
     "status": "completed"
    },
    "tags": []
   },
   "outputs": [
    {
     "data": {
      "text/plain": [
       "<Axes: xlabel='Exercise angina', ylabel='Heart Disease'>"
      ]
     },
     "execution_count": 17,
     "metadata": {},
     "output_type": "execute_result"
    },
    {
     "data": {
      "image/png": "[encoded data removed]",
      "text/plain": [
       "<Figure size 640x480 with 1 Axes>"
      ]
     },
     "metadata": {},
     "output_type": "display_data"
    }
   ],
   "source": [
    "sns.barplot(data=df,y='Heart Disease',x='Exercise angina')\n"
   ]
  },
  {
   "cell_type": "code",
   "execution_count": 18,
   "id": "d4f36e94",
   "metadata": {
    "execution": {
     "iopub.execute_input": "2023-11-26T05:36:29.113629Z",
     "iopub.status.busy": "2023-11-26T05:36:29.113152Z",
     "iopub.status.idle": "2023-11-26T05:36:29.121607Z",
     "shell.execute_reply": "2023-11-26T05:36:29.120309Z"
    },
    "papermill": {
     "duration": 0.031093,
     "end_time": "2023-11-26T05:36:29.124130",
     "exception": false,
     "start_time": "2023-11-26T05:36:29.093037",
     "status": "completed"
    },
    "tags": []
   },
   "outputs": [
    {
     "data": {
      "text/plain": [
       "Index(['Age', 'Sex', 'Chest pain type', 'BP', 'Cholesterol', 'FBS over 120',\n",
       "       'EKG results', 'Max HR', 'Exercise angina', 'ST depression',\n",
       "       'Slope of ST', 'Number of vessels fluro', 'Thallium', 'Heart Disease'],\n",
       "      dtype='object')"
      ]
     },
     "execution_count": 18,
     "metadata": {},
     "output_type": "execute_result"
    }
   ],
   "source": [
    "df.columns\n"
   ]
  },
  {
   "cell_type": "markdown",
   "id": "a47feb0e",
   "metadata": {
    "papermill": {
     "duration": 0.018601,
     "end_time": "2023-11-26T05:36:29.161401",
     "exception": false,
     "start_time": "2023-11-26T05:36:29.142800",
     "status": "completed"
    },
    "tags": []
   },
   "source": [
    "## Feature Scaling and Splitting the Dataset\n"
   ]
  },
  {
   "cell_type": "markdown",
   "id": "303ac1fa",
   "metadata": {
    "papermill": {
     "duration": 0.018112,
     "end_time": "2023-11-26T05:36:29.286926",
     "exception": false,
     "start_time": "2023-11-26T05:36:29.268814",
     "status": "completed"
    },
    "tags": []
   },
   "source": []
  },
  {
   "cell_type": "code",
   "execution_count": 19,
   "id": "b0ef3f05",
   "metadata": {
    "execution": {
     "iopub.execute_input": "2023-11-26T05:36:29.326705Z",
     "iopub.status.busy": "2023-11-26T05:36:29.325576Z",
     "iopub.status.idle": "2023-11-26T05:36:29.432677Z",
     "shell.execute_reply": "2023-11-26T05:36:29.431378Z"
    },
    "papermill": {
     "duration": 0.13064,
     "end_time": "2023-11-26T05:36:29.436123",
     "exception": false,
     "start_time": "2023-11-26T05:36:29.305483",
     "status": "completed"
    },
    "tags": []
   },
   "outputs": [],
   "source": [
    "# importing modules\n",
    "from sklearn.model_selection import train_test_split\n",
    "from sklearn.preprocessing import StandardScaler ,PolynomialFeatures"
   ]
  },
  {
   "cell_type": "code",
   "execution_count": 20,
   "id": "73bc4ce1",
   "metadata": {
    "execution": {
     "iopub.execute_input": "2023-11-26T05:36:29.476053Z",
     "iopub.status.busy": "2023-11-26T05:36:29.474751Z",
     "iopub.status.idle": "2023-11-26T05:36:29.481474Z",
     "shell.execute_reply": "2023-11-26T05:36:29.480422Z"
    },
    "papermill": {
     "duration": 0.028767,
     "end_time": "2023-11-26T05:36:29.483833",
     "exception": false,
     "start_time": "2023-11-26T05:36:29.455066",
     "status": "completed"
    },
    "tags": []
   },
   "outputs": [],
   "source": [
    "# selecting the target and the features\n",
    "x = np.array(df.drop(columns='Heart Disease'))\n",
    "y = np.array(df['Heart Disease'])"
   ]
  },
  {
   "cell_type": "code",
   "execution_count": 21,
   "id": "6ac56033",
   "metadata": {
    "execution": {
     "iopub.execute_input": "2023-11-26T05:36:29.524007Z",
     "iopub.status.busy": "2023-11-26T05:36:29.523009Z",
     "iopub.status.idle": "2023-11-26T05:36:29.530104Z",
     "shell.execute_reply": "2023-11-26T05:36:29.528916Z"
    },
    "papermill": {
     "duration": 0.029114,
     "end_time": "2023-11-26T05:36:29.532669",
     "exception": false,
     "start_time": "2023-11-26T05:36:29.503555",
     "status": "completed"
    },
    "tags": []
   },
   "outputs": [],
   "source": [
    "# features scaling\n",
    "scaler = StandardScaler()\n",
    "scaler.fit(x)\n",
    "x_scaled = scaler.transform(x)"
   ]
  },
  {
   "cell_type": "code",
   "execution_count": 22,
   "id": "7d4cf5f4",
   "metadata": {
    "execution": {
     "iopub.execute_input": "2023-11-26T05:36:29.572277Z",
     "iopub.status.busy": "2023-11-26T05:36:29.570813Z",
     "iopub.status.idle": "2023-11-26T05:36:29.579633Z",
     "shell.execute_reply": "2023-11-26T05:36:29.578386Z"
    },
    "papermill": {
     "duration": 0.031013,
     "end_time": "2023-11-26T05:36:29.582014",
     "exception": false,
     "start_time": "2023-11-26T05:36:29.551001",
     "status": "completed"
    },
    "tags": []
   },
   "outputs": [
    {
     "data": {
      "text/plain": [
       "array([ 1.71209356,  0.6894997 ,  0.87092765, -0.07540984,  1.40221232,\n",
       "       -0.41702883,  0.98166365, -1.75920811, -0.7012223 ,  1.18101235,\n",
       "        0.67641928,  2.47268219, -0.87570581])"
      ]
     },
     "execution_count": 22,
     "metadata": {},
     "output_type": "execute_result"
    }
   ],
   "source": [
    "x_scaled[0]\n"
   ]
  },
  {
   "cell_type": "code",
   "execution_count": 23,
   "id": "18556ab5",
   "metadata": {
    "execution": {
     "iopub.execute_input": "2023-11-26T05:36:29.621965Z",
     "iopub.status.busy": "2023-11-26T05:36:29.621225Z",
     "iopub.status.idle": "2023-11-26T05:36:29.626928Z",
     "shell.execute_reply": "2023-11-26T05:36:29.626034Z"
    },
    "papermill": {
     "duration": 0.028729,
     "end_time": "2023-11-26T05:36:29.629229",
     "exception": false,
     "start_time": "2023-11-26T05:36:29.600500",
     "status": "completed"
    },
    "tags": []
   },
   "outputs": [],
   "source": [
    "# spliting the dataset\n",
    "x_train,x_test,y_train,y_test = train_test_split(x_scaled,y,train_size=0.8)"
   ]
  },
  {
   "cell_type": "markdown",
   "id": "95080337",
   "metadata": {
    "papermill": {
     "duration": 0.017962,
     "end_time": "2023-11-26T05:36:29.665705",
     "exception": false,
     "start_time": "2023-11-26T05:36:29.647743",
     "status": "completed"
    },
    "tags": []
   },
   "source": [
    "## Logistic Regression Model\n"
   ]
  },
  {
   "cell_type": "code",
   "execution_count": 24,
   "id": "3b17ab62",
   "metadata": {
    "execution": {
     "iopub.execute_input": "2023-11-26T05:36:29.704680Z",
     "iopub.status.busy": "2023-11-26T05:36:29.703898Z",
     "iopub.status.idle": "2023-11-26T05:36:29.801782Z",
     "shell.execute_reply": "2023-11-26T05:36:29.800210Z"
    },
    "papermill": {
     "duration": 0.121202,
     "end_time": "2023-11-26T05:36:29.805085",
     "exception": false,
     "start_time": "2023-11-26T05:36:29.683883",
     "status": "completed"
    },
    "tags": []
   },
   "outputs": [],
   "source": [
    "# importing modules\n",
    "from sklearn.linear_model import LogisticRegression\n",
    "from sklearn.metrics import mean_squared_error , accuracy_score , r2_score\n"
   ]
  },
  {
   "cell_type": "code",
   "execution_count": 25,
   "id": "cef59821",
   "metadata": {
    "execution": {
     "iopub.execute_input": "2023-11-26T05:36:29.845178Z",
     "iopub.status.busy": "2023-11-26T05:36:29.844713Z",
     "iopub.status.idle": "2023-11-26T05:36:29.864585Z",
     "shell.execute_reply": "2023-11-26T05:36:29.862917Z"
    },
    "papermill": {
     "duration": 0.042976,
     "end_time": "2023-11-26T05:36:29.867391",
     "exception": false,
     "start_time": "2023-11-26T05:36:29.824415",
     "status": "completed"
    },
    "tags": []
   },
   "outputs": [
    {
     "data": {
      "text/plain": [
       "0.7777777777777778"
      ]
     },
     "execution_count": 25,
     "metadata": {},
     "output_type": "execute_result"
    }
   ],
   "source": [
    "# build the model and fit it\n",
    "clf = LogisticRegression()\n",
    "clf.fit(x_train,y_train)\n",
    "clf.score(x_test,y_test)"
   ]
  },
  {
   "cell_type": "markdown",
   "id": "b94825c3",
   "metadata": {
    "papermill": {
     "duration": 0.018598,
     "end_time": "2023-11-26T05:36:29.904986",
     "exception": false,
     "start_time": "2023-11-26T05:36:29.886388",
     "status": "completed"
    },
    "tags": []
   },
   "source": [
    "## Polynomial Regression\n"
   ]
  },
  {
   "cell_type": "code",
   "execution_count": 26,
   "id": "edb90d62",
   "metadata": {
    "execution": {
     "iopub.execute_input": "2023-11-26T05:36:29.944448Z",
     "iopub.status.busy": "2023-11-26T05:36:29.943989Z",
     "iopub.status.idle": "2023-11-26T05:38:48.588131Z",
     "shell.execute_reply": "2023-11-26T05:38:48.587009Z"
    },
    "papermill": {
     "duration": 138.707706,
     "end_time": "2023-11-26T05:38:48.631260",
     "exception": false,
     "start_time": "2023-11-26T05:36:29.923554",
     "status": "completed"
    },
    "tags": []
   },
   "outputs": [
    {
     "name": "stdout",
     "output_type": "stream",
     "text": [
      "Maximum Accuracy: 79.63%\n"
     ]
    }
   ],
   "source": [
    "train_mses = []\n",
    "cv_mses = []\n",
    "models = []\n",
    "scalers = []\n",
    "accuracy=[]\n",
    "\n",
    "for i in range(1,11) :\n",
    "    \n",
    "    poly = PolynomialFeatures(degree=i, include_bias=False)\n",
    "    X_train_mapped = poly.fit_transform(x_train)\n",
    "\n",
    "    scaler_poly = StandardScaler()\n",
    "    X_train_mapped_scaled = scaler_poly.fit_transform(X_train_mapped)\n",
    "    scalers.append(scaler_poly)\n",
    "\n",
    "    model = LogisticRegression(max_iter=10000)\n",
    "    model.fit(X_train_mapped_scaled, y_train )\n",
    "    models.append(model)\n",
    "\n",
    "    yhat = model.predict(X_train_mapped_scaled)\n",
    "    train_mse = mean_squared_error(y_train, yhat) / 2\n",
    "    train_mses.append(train_mse)\n",
    "\n",
    "    poly = PolynomialFeatures(i, include_bias=False)\n",
    "    X_cv_mapped = poly.fit_transform(x_test)\n",
    "    X_cv_mapped_scaled = scaler_poly.transform(X_cv_mapped)\n",
    "\n",
    "    # Compute the cross validation MSE\n",
    "    yhat = model.predict(X_cv_mapped_scaled)\n",
    "    cv_mse = mean_squared_error(y_test, yhat) / 2\n",
    "    cv_mses.append(cv_mse)\n",
    "\n",
    "    accuracy.append(model.score(X_cv_mapped_scaled,y_test)*100)\n",
    "max_accuracy = max(accuracy)\n",
    "print(f\"Maximum Accuracy: {max_accuracy:.2f}%\")"
   ]
  },
  {
   "cell_type": "markdown",
   "id": "57f43251",
   "metadata": {
    "execution": {
     "iopub.execute_input": "2023-11-26T05:05:16.303441Z",
     "iopub.status.busy": "2023-11-26T05:05:16.302467Z",
     "iopub.status.idle": "2023-11-26T05:05:16.314435Z",
     "shell.execute_reply": "2023-11-26T05:05:16.312888Z",
     "shell.execute_reply.started": "2023-11-26T05:05:16.303385Z"
    },
    "papermill": {
     "duration": 0.033072,
     "end_time": "2023-11-26T05:38:48.702991",
     "exception": false,
     "start_time": "2023-11-26T05:38:48.669919",
     "status": "completed"
    },
    "tags": []
   },
   "source": [
    "\n",
    "## Model Evaluation\n"
   ]
  },
  {
   "cell_type": "code",
   "execution_count": 27,
   "id": "6334acd2",
   "metadata": {
    "execution": {
     "iopub.execute_input": "2023-11-26T05:38:48.741316Z",
     "iopub.status.busy": "2023-11-26T05:38:48.740904Z",
     "iopub.status.idle": "2023-11-26T05:38:48.746870Z",
     "shell.execute_reply": "2023-11-26T05:38:48.745870Z"
    },
    "papermill": {
     "duration": 0.028005,
     "end_time": "2023-11-26T05:38:48.749306",
     "exception": false,
     "start_time": "2023-11-26T05:38:48.721301",
     "status": "completed"
    },
    "tags": []
   },
   "outputs": [],
   "source": [
    "y_pred = clf.predict(x_test)\n"
   ]
  },
  {
   "cell_type": "code",
   "execution_count": 28,
   "id": "e0485ad4",
   "metadata": {
    "execution": {
     "iopub.execute_input": "2023-11-26T05:38:48.788535Z",
     "iopub.status.busy": "2023-11-26T05:38:48.787735Z",
     "iopub.status.idle": "2023-11-26T05:38:48.794816Z",
     "shell.execute_reply": "2023-11-26T05:38:48.794000Z"
    },
    "papermill": {
     "duration": 0.029387,
     "end_time": "2023-11-26T05:38:48.796926",
     "exception": false,
     "start_time": "2023-11-26T05:38:48.767539",
     "status": "completed"
    },
    "tags": []
   },
   "outputs": [
    {
     "data": {
      "text/plain": [
       "0.7777777777777778"
      ]
     },
     "execution_count": 28,
     "metadata": {},
     "output_type": "execute_result"
    }
   ],
   "source": [
    "accuracy_score(y_test,y_pred)\n"
   ]
  }
 ],
 "metadata": {
  "kaggle": {
   "accelerator": "none",
   "dataSources": [
    {
     "datasetId": 841679,
     "sourceId": 1436563,
     "sourceType": "datasetVersion"
    }
   ],
   "dockerImageVersionId": 30587,
   "isGpuEnabled": false,
   "isInternetEnabled": true,
   "language": "python",
   "sourceType": "notebook"
  },
  "kernelspec": {
   "display_name": "Python 3",
   "language": "python",
   "name": "python3"
  },
  "language_info": {
   "codemirror_mode": {
    "name": "ipython",
    "version": 3
   },
   "file_extension": ".py",
   "mimetype": "text/x-python",
   "name": "python",
   "nbconvert_exporter": "python",
   "pygments_lexer": "ipython3",
   "version": "3.10.12"
  },
  "papermill": {
   "default_parameters": {},
   "duration": 152.015499,
   "end_time": "2023-11-26T05:38:49.538914",
   "environment_variables": {},
   "exception": null,
   "input_path": "__notebook__.ipynb",
   "output_path": "__notebook__.ipynb",
   "parameters": {},
   "start_time": "2023-11-26T05:36:17.523415",
   "version": "2.4.0"
  }
 },
 "nbformat": 4,
 "nbformat_minor": 5
}
